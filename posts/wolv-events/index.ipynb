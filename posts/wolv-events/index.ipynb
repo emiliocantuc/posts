{
 "cells": [
  {
   "cell_type": "raw",
   "id": "befa22c9",
   "metadata": {
    "vscode": {
     "languageId": "raw"
    }
   },
   "source": [
    "---\n",
    "title: 'Building a university event embedding recommender'\n",
    "subtitle: 'Part 1\\: MVP'\n",
    "date: 2024-10-11\n",
    "date-modified: today\n",
    "categories: [wolverine events]\n",
    "format:\n",
    "    html:\n",
    "        code-fold: false\n",
    "        toc: true\n",
    "        other-links:\n",
    "            - text: The site\n",
    "              href: https://mywolverine.events\n",
    "        code-links:\n",
    "            - text: Code\n",
    "              icon: github\n",
    "              href: https://github.com/emiliocantuc/wolverine-events\n",
    "\n",
    "draft: true\n",
    "---"
   ]
  },
  {
   "cell_type": "code",
   "execution_count": 49,
   "id": "19066e15",
   "metadata": {},
   "outputs": [],
   "source": [
    "#| echo: false\n",
    "import numpy as np\n",
    "import pandas as pd\n",
    "import matplotlib.pyplot as plt\n",
    "import seaborn as sns\n",
    "import json\n",
    "from sklearn.metrics.pairwise import euclidean_distances\n",
    "\n",
    "with open('data/to_embed.json', 'r') as f: to_embed = json.load(f)\n",
    "E = np.load('data/embeddings.npy')\n",
    "centroids = np.load('data/centroids.npy')\n",
    "curr_E = np.load('data/current_embs.npy')\n",
    "\n",
    "def softmax(x):\n",
    "    e = (np.exp(x) - np.max(x, axis = 1, keepdims = True))\n",
    "    e /= e.sum(axis = 1, keepdims = True)\n",
    "    return e"
   ]
  },
  {
   "cell_type": "markdown",
   "id": "f098295b",
   "metadata": {},
   "source": [
    "I am currently a grad student at the University of Michigan and like to attend seminars, lectures, and social events when I can. However, I often attend the same weekly seminar or other recurring events because sifting through all events (588 this week) to find ones that interest me is very time-consuming. Last semester, I tried feeding the events to ChatGPT and [asking for recommendations](https://emiliocantuc.github.io/umich-events-gpt/), but they were not great.\n",
    "\n",
    "\n",
    "So, given it's fall break, I want to hack into a simple recommender system to do a better job. The goal is to get to an MVP that other students can use this weekend and iterate on it during the semester. Let's see what we can come up with."
   ]
  },
  {
   "cell_type": "markdown",
   "id": "980f0e5b",
   "metadata": {},
   "source": [
    "# Overview\n",
    "\n",
    "I want to keep the recommender and overall system as simple as possible. We'll start with content-based filtering, where users are recommended similar events to ones they have previously enjoyed. To do so, we need a way for users to give feedback on events and a way of determining how similar two events are.\n",
    "\n",
    "For feedback, we can allow users to downvote, upvote, and add an event to their calendar (in which case they are interested and plan on actually attending):\n",
    "\n",
    "![](images/card_example.png){width=300 fig-align=\"center\"}\n",
    "\n",
    "For similarity, we can simply represent our events as strings, obtain their [embeddings](https://towardsdatascience.com/neural-network-embeddings-explained-4d028e6f0526), and use the cosine distance between events. To keep things simple (and affordable), we can just use OpenAI's [API](https://platform.openai.com/docs/guides/embeddings).\n",
    "\n",
    "Because I'd like to implement changes quickly and don't expect more than a handful of users, we'll use Python, Flask, and SQLite. Let's jump in."
   ]
  },
  {
   "cell_type": "markdown",
   "id": "9a72ca80",
   "metadata": {},
   "source": [
    "# Data\n",
    "\n",
    "The university's event page, [Happening @ Michigan](https://events.umich.edu/) is great. It provides openly available endpoints to fetch events with all of their details in JSON format. Great! No scrapping is necessary. We can simply fetch the events of the day or week to keep the system up-to-date."
   ]
  },
  {
   "cell_type": "markdown",
   "id": "95bea823",
   "metadata": {},
   "source": [
    "# Embeddings\n",
    "\n",
    "One of the biggest challenges (as far as I can tell) in recommender systems is coming up with vector representations of the items (movies, products, events, etc.) such that distances between are semantically meaningful. Luckily, it's now very easy and convenient to throw items to a neural network and get such embeddings.  \n",
    "\n",
    "First, let's take a look at three events and how we might represent them as strings:"
   ]
  },
  {
   "cell_type": "code",
   "execution_count": 24,
   "id": "752bdc6a",
   "metadata": {},
   "outputs": [
    {
     "name": "stdout",
     "output_type": "stream",
     "text": [
      "==================================================\n",
      "Careers / Jobs:Workshop: UROP Resume Review Open House at The Career Center\n",
      "UROP students are welcome to drop in for resume reviews, as they prepare to apply for upcoming research projects.  Career Center staff and UROP Peer Advisors will be on hand to answer application and resume questions.\n",
      "Where:The Career Center\n",
      "When:Friday 12\n",
      "Sponsors:University Career Center\n",
      "==================================================\n",
      "Careers / Jobs:Workshop: Freshman Friday\n",
      "Join us on Fridays from 12-1:00 for FREE FOOD and fun staff!  Meet The Career Center Advisors in an informal setting.\n",
      "Where:The Career Center\n",
      "When:Friday 12\n",
      "Sponsors:University Career Center\n",
      "==================================================\n",
      "Careers / Jobs:Workshop: UROP Resume Workshop\n",
      "This is a closed resume workshop for students in the UROP program.\n",
      "Where:The Career Center\n",
      "When:Friday 11\n",
      "Sponsors:University Career Center\n"
     ]
    }
   ],
   "source": [
    "for e in [69, 70, 71]: print(f'{\"=\"*50}\\n{to_embed[e]}')"
   ]
  },
  {
   "cell_type": "markdown",
   "id": "33d464a0",
   "metadata": {},
   "source": [
    "We include the event type before the title, the description (truncated to about 200 characters), the location name and date, and sponsoring groups. Note that we only include the day of the week and the start hour in the date to make it easier for the text model to make sense of. For now, we'll use OpenAI's `text-embedding-3-small` model, but we can try others later.\n",
    "\n",
    "We now have a 1536-dimentional vector representing each event and can use dot products to determine similarity. For example, For the events above, we have:"
   ]
  },
  {
   "cell_type": "code",
   "execution_count": 27,
   "id": "8527529d",
   "metadata": {},
   "outputs": [
    {
     "data": {
      "text/plain": [
       "array([0.99999999, 0.64823593, 0.89352812])"
      ]
     },
     "execution_count": 27,
     "metadata": {},
     "output_type": "execute_result"
    }
   ],
   "source": [
    "(E[[69, 70, 71]] @ E[[69, 70, 71]].T)[0]"
   ]
  },
  {
   "cell_type": "markdown",
   "id": "884b6b94",
   "metadata": {},
   "source": [
    "which makes sense since the first event is most similar to itself and then to the other resume workshop."
   ]
  },
  {
   "cell_type": "markdown",
   "id": "a5e6759a",
   "metadata": {},
   "source": [
    "# KNN recommender\n",
    "\n",
    "If we encode downvotes as `-1`, upvotes as `1` and \"adds to calendar\" as `2`, we could implement a very simple recommender. Given a user and a new event, look up the event's k-nearest neighbors (using embeddings and dot products) with ratings by the user and return the average rating. This average rating can be considered the estimated rating the user would give to the new event.  Repeat for each new event and return events with the highest predicted ratings.\n",
    "\n",
    "This system would be fairly simple to spin up, and we could even keep the KNN lookup constant by using approximate methods like those provided in `faiss` or any of the many vector databases.\n",
    "\n",
    "However, we still have to keep around a growing list of past events (at least their embeddings) and user ratings. To avoid running out of a cheap VM's disk space (being very, very optimistic about user count), we could prune the oldest ratings once in a while or come up with some other simple scheme. But I wanted to try something else out."
   ]
  },
  {
   "cell_type": "markdown",
   "id": "595503da",
   "metadata": {},
   "source": [
    "# Clustering: constant storage?\n",
    "\n",
    "What if we ...\n",
    "\n",
    "- cluster a bunch of past events and obtain their centroids\n",
    "- have users somehow rate clusters\n",
    "- can estimate a new event's rating by their distance to different centroids\n",
    "\n",
    "Then it seems that we only need to maintain a user's rating of each centroid and forget the individual events they up/down vote for. I.e., once a week passes, we can delete those events from our database.\n",
    "\n",
    "To see how this would work, we first cluster past events. We get events from the last 10 years, keep only the nonrecurring ones (about 60k), and embed them to obtain"
   ]
  },
  {
   "cell_type": "code",
   "execution_count": 28,
   "id": "cd313619",
   "metadata": {},
   "outputs": [
    {
     "data": {
      "text/plain": [
       "(59745, 1536)"
      ]
     },
     "execution_count": 28,
     "metadata": {},
     "output_type": "execute_result"
    }
   ],
   "source": [
    "E.shape"
   ]
  },
  {
   "cell_type": "markdown",
   "id": "8a12f0bf",
   "metadata": {},
   "source": [
    "Now use K-means to cluster them into 1,000 clusters. Why 1,000? I'm sure there are better methodologies, but for now I inspected the resulting assignments for 10, 100, 500, etc. and picked where I felt the clusters were specific enough while still having a good number of events. It's not perfect, and I'll probably come back and play with it some more.\n",
    "\n",
    "Anyway, now we have 1,000 centroids:\n"
   ]
  },
  {
   "cell_type": "code",
   "execution_count": 38,
   "id": "de2d50ab",
   "metadata": {},
   "outputs": [
    {
     "data": {
      "text/plain": [
       "(1000, 1536)"
      ]
     },
     "execution_count": 38,
     "metadata": {},
     "output_type": "execute_result"
    }
   ],
   "source": [
    "centroids.shape"
   ]
  },
  {
   "cell_type": "markdown",
   "id": "3b825c6e",
   "metadata": {},
   "source": [
    "And each of which is rated by a user. We set a user's initial ratings to be random but close to zero, to give some diversity in their recommendations when they sign up: "
   ]
  },
  {
   "cell_type": "code",
   "execution_count": 128,
   "id": "5ba08555",
   "metadata": {},
   "outputs": [
    {
     "data": {
      "text/plain": [
       "(1000,)"
      ]
     },
     "execution_count": 128,
     "metadata": {},
     "output_type": "execute_result"
    }
   ],
   "source": [
    "user_ratings = np.random.uniform(-1e-5, 1e-5, 1000)\n",
    "user_ratings.shape"
   ]
  },
  {
   "cell_type": "markdown",
   "id": "ab258c41",
   "metadata": {},
   "source": [
    "Now, when we get the new events of the week, we can embed them (`curr_E`) and calculate their distances to each centroid:"
   ]
  },
  {
   "cell_type": "code",
   "execution_count": 47,
   "id": "6a49fcae",
   "metadata": {},
   "outputs": [
    {
     "data": {
      "text/plain": [
       "((641, 1536), (641, 1000))"
      ]
     },
     "execution_count": 47,
     "metadata": {},
     "output_type": "execute_result"
    }
   ],
   "source": [
    "dists_to_centroids = euclidean_distances(curr_E, centroids)\n",
    "curr_E.shape, dists_to_centroids.shape"
   ]
  },
  {
   "cell_type": "markdown",
   "id": "792a1dcc",
   "metadata": {},
   "source": [
    "How do we get the expected rating the user will give to each event? Intuitively, we would like each centroid to \"have a say\" in the final rating, with closer events given more priority. I.e., we'll weigh centroids inversely to their distance to the new events:"
   ]
  },
  {
   "cell_type": "code",
   "execution_count": 96,
   "id": "0de4436e",
   "metadata": {},
   "outputs": [],
   "source": [
    "inv_temp = 1\n",
    "cluster_weights =  1 / (dists_to_centroids + 1e-6)\n",
    "cluster_weights = softmax(cluster_weights * inv_temp)"
   ]
  },
  {
   "cell_type": "markdown",
   "id": "f30ed84d",
   "metadata": {},
   "source": [
    "Where we use [softmax](https://en.wikipedia.org/wiki/Softmax_function) to have the weights add up to one. In addition, we can play around with the \"inverse temperature\" $\\tau$ parameter to weigh the closest centroids more (higher $\\tau$) or less (smaller $\\tau$ ) heavily."
   ]
  },
  {
   "cell_type": "code",
   "execution_count": 112,
   "id": "a0f271a0",
   "metadata": {},
   "outputs": [
    {
     "data": {
      "text/plain": [
       "<matplotlib.legend.Legend at 0x309fc2be0>"
      ]
     },
     "execution_count": 112,
     "metadata": {},
     "output_type": "execute_result"
    },
    {
     "data": {
      "image/png": "[encoded data removed]",
      "text/plain": [
       "<Figure size 640x480 with 1 Axes>"
      ]
     },
     "metadata": {},
     "output_type": "display_data"
    }
   ],
   "source": [
    "#| code-fold: true\n",
    "#| code-summary: Playing with inv. temperature\n",
    "w =  1 / (dists_to_centroids + 1e-6)\n",
    "taus = [0.5, 1, 2]\n",
    "for tau in reversed(taus):\n",
    "    w = softmax(cluster_weights * tau)\n",
    "    plt.hist(w[0], label = r'$\\tau = $' + f'{tau}', alpha = 0.50)\n",
    "\n",
    "plt.axvline(1/len(centroids), label = '1 / num_clusters', color = 'black', linestyle = '--')\n",
    "plt.gca().set_xticks(plt.gca().get_xticks()[1::2])\n",
    "plt.xlabel('Cluster weights')\n",
    "plt.legend()"
   ]
  },
  {
   "cell_type": "markdown",
   "id": "291ff63c",
   "metadata": {},
   "source": [
    "Awesome, we can now weigh each cluster. So for a new event, we can get the estimated rating by taking the weighted sum:"
   ]
  },
  {
   "cell_type": "code",
   "execution_count": 130,
   "id": "c4bfe8fa",
   "metadata": {},
   "outputs": [
    {
     "data": {
      "text/plain": [
       "-1.3426919962571645e-07"
      ]
     },
     "execution_count": 130,
     "metadata": {},
     "output_type": "execute_result"
    }
   ],
   "source": [
    "new_event_ix = 0\n",
    "cluster_weights[new_event_ix] @ user_ratings"
   ]
  },
  {
   "cell_type": "markdown",
   "id": "3671ada6",
   "metadata": {},
   "source": [
    "And then recommend those new events with the highest predicted ratings:"
   ]
  },
  {
   "cell_type": "code",
   "execution_count": 165,
   "id": "1eb2b2a6",
   "metadata": {},
   "outputs": [
    {
     "data": {
      "text/plain": [
       "array([475,  22, 555, 554, 201])"
      ]
     },
     "execution_count": 165,
     "metadata": {},
     "output_type": "execute_result"
    }
   ],
   "source": [
    "n_recs = 5\n",
    "pred_ratings = cluster_weights @ user_ratings\n",
    "rec_ixs = np.argsort(pred_ratings)[-n_recs:]\n",
    "rec_ixs"
   ]
  },
  {
   "cell_type": "markdown",
   "id": "b4ee9446",
   "metadata": {},
   "source": [
    "The only thing missing is a way to update the user's ratings of centroids when they rate an event. Intuitively, once a user rates an event, we should change the entries in `user_ratings` proportionally to the weight they were given in the prediction and the difference between the predicted and actual rating. In fact, we made the prediction on event $i$ with\n",
    "\n",
    "$$\n",
    "\\hat y_i(w_i, u) = w_i^\\top u\n",
    "$$\n",
    "\n",
    "Where $w_i$ are the cluster weights for the event and $u$ the user's ratings of the centroids. Let $y_i$ the actual rating given by the user. We can then define our loss (with a convenient 1/2 that cancels later) as\n",
    "\n",
    "$$\n",
    "L(\\hat y_i, y_i) = \\frac{1}{2}(\\hat y_i - y_i)^2\n",
    "$$\n",
    "\n",
    "Noting that we only want to update $u$ and not the embeddings or centroids, we can get\n",
    "\n",
    "$$\n",
    "\\frac{\\partial L}{\\partial u} = (\\hat y_i - y_i) \\frac{\\partial \\hat y_i}{\\partial u} = (\\hat y_i - y_i) w_i^\\top\n",
    "$$\n",
    "\n",
    "And can perform [gradient descent](https://en.wikipedia.org/wiki/Gradient_descent):\n",
    "\n",
    "$$\n",
    "u \\leftarrow u - \\lambda (\\hat y_i - y_i) w_i^\\top\n",
    "$$"
   ]
  },
  {
   "cell_type": "markdown",
   "id": "7c668e33",
   "metadata": {},
   "source": [
    "Or in code:"
   ]
  },
  {
   "cell_type": "code",
   "execution_count": 169,
   "id": "de95b1e6",
   "metadata": {},
   "outputs": [
    {
     "data": {
      "text/plain": [
       "0.00020218347827034036"
      ]
     },
     "execution_count": 169,
     "metadata": {},
     "output_type": "execute_result"
    }
   ],
   "source": [
    "# Before update\n",
    "rated_ix, rating = 0, 2 # event rated and rating given\n",
    "pred_ratings[rated_ix]"
   ]
  },
  {
   "cell_type": "code",
   "execution_count": 170,
   "id": "83e9cfc3",
   "metadata": {},
   "outputs": [
    {
     "data": {
      "text/plain": [
       "0.00040448075950620985"
      ]
     },
     "execution_count": 170,
     "metadata": {},
     "output_type": "execute_result"
    }
   ],
   "source": [
    "# Update\n",
    "lr = 0.1  # step size / lambda\n",
    "user_ratings -= lr * cluster_weights[rated_ix] * (pred_ratings[rated_ix] - rating)\n",
    "\n",
    "# After update\n",
    "pred_ratings = cluster_weights @ user_ratings\n",
    "pred_ratings[rated_ix]"
   ]
  },
  {
   "cell_type": "markdown",
   "id": "c0dd3ac1",
   "metadata": {},
   "source": [
    "And that's the basics. Later on, I'll play with different optimizers that can account for sparse features, clustering algorithms, and so on. But for now, I just want to implement it. "
   ]
  },
  {
   "cell_type": "markdown",
   "id": "6873f81a",
   "metadata": {
    "vscode": {
     "languageId": "raw"
    }
   },
   "source": [
    "# Implementation\n",
    "\n",
    "Assume we have embedded and clustered the bunch of past events and have the centroids. The basic idea is to fetch the events for the upcoming week Sundays and embed them. We then compute their distances to the centroids (or even the weights) and store them (the NumPy arrays as blobs in the db). And those are the only things we batch. \n",
    "\n",
    "I drew some inspiration and referenced from karpathy's [arxiv-sanity lite](https://github.com/karpathy/arxiv-sanity-lite/tree/master). For auth, I decided to go with [Signin With Google](https://developers.google.com/identity/gsi/web/guides/overview) as the university is on GSuite. Users can also join a community mailing list to get reminded weekly when recommendations are ready.  \n",
    "\n",
    "The code is openly available [here](https://github.com/emiliocantuc/wolverine-events) and site hosted [here](https://mywolverine.events)."
   ]
  },
  {
   "cell_type": "markdown",
   "id": "ce28b372",
   "metadata": {},
   "source": [
    "# A lot of room\n",
    "\n",
    "for improvement. For example:\n",
    "\n",
    "- Once the clusters and centroids are computed, there is no way to change them. Either make sure they are good enough so that we never have to change them or come up with something different. \n",
    "- Find a way to set parameters (learning rate, inv. temperature) in a more principled way, or test thoroughly. Should each user have their own learning rate?\n",
    "\n",
    "And I'm sure I'll come up with others."
   ]
  }
 ],
 "metadata": {
  "kernelspec": {
   "display_name": "Python 3",
   "language": "python",
   "name": "python3"
  },
  "language_info": {
   "codemirror_mode": {
    "name": "ipython",
    "version": 3
   },
   "file_extension": ".py",
   "mimetype": "text/x-python",
   "name": "python",
   "nbconvert_exporter": "python",
   "pygments_lexer": "ipython3",
   "version": "3.9.6"
  }
 },
 "nbformat": 4,
 "nbformat_minor": 5
}
